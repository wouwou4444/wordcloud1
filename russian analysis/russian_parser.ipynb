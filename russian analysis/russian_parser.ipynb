{
 "cells": [
  {
   "cell_type": "markdown",
   "metadata": {
    "collapsed": true
   },
   "source": [
    "# import pyspark"
   ]
  },
  {
   "cell_type": "code",
   "execution_count": 1,
   "metadata": {
    "collapsed": true
   },
   "outputs": [],
   "source": [
    "import re"
   ]
  },
  {
   "cell_type": "code",
   "execution_count": null,
   "metadata": {
    "collapsed": false
   },
   "outputs": [],
   "source": [
    "sc.stop()"
   ]
  },
  {
   "cell_type": "code",
   "execution_count": 2,
   "metadata": {
    "collapsed": false
   },
   "outputs": [],
   "source": [
    "from pyspark import SparkContext\n",
    "sc = SparkContext(\"local\", \"Simple App\")"
   ]
  },
  {
   "cell_type": "code",
   "execution_count": 3,
   "metadata": {
    "collapsed": false
   },
   "outputs": [
    {
     "data": {
      "text/html": [
       "\n",
       "        <div>\n",
       "            <p><b>SparkContext</b></p>\n",
       "\n",
       "            <p><a href=\"http://10.0.75.1:4040\">Spark UI</a></p>\n",
       "\n",
       "            <dl>\n",
       "              <dt>Version</dt>\n",
       "                <dd><code>v2.2.0</code></dd>\n",
       "              <dt>Master</dt>\n",
       "                <dd><code>local</code></dd>\n",
       "              <dt>AppName</dt>\n",
       "                <dd><code>Simple App</code></dd>\n",
       "            </dl>\n",
       "        </div>\n",
       "        "
      ],
      "text/plain": [
       "<SparkContext master=local appName=Simple App>"
      ]
     },
     "execution_count": 3,
     "metadata": {},
     "output_type": "execute_result"
    }
   ],
   "source": [
    "sc"
   ]
  },
  {
   "cell_type": "code",
   "execution_count": null,
   "metadata": {
    "collapsed": true
   },
   "outputs": [],
   "source": []
  },
  {
   "cell_type": "code",
   "execution_count": null,
   "metadata": {
    "collapsed": false
   },
   "outputs": [],
   "source": [
    "raw_data = sc.textFile(\"d:/valbuz/Francais Methodes/Russe/kitchen01-20.txt\",\n",
    "                       use_unicode = True)"
   ]
  },
  {
   "cell_type": "code",
   "execution_count": null,
   "metadata": {
    "collapsed": true
   },
   "outputs": [],
   "source": [
    "parse_data = raw_data.flatMap(lambda x:re.split(\"\\W+\",x)).filter(lambda x:x != \"\").map(lambda x: x.lower())"
   ]
  },
  {
   "cell_type": "code",
   "execution_count": null,
   "metadata": {
    "collapsed": true
   },
   "outputs": [],
   "source": []
  },
  {
   "cell_type": "code",
   "execution_count": null,
   "metadata": {
    "collapsed": false
   },
   "outputs": [],
   "source": [
    "parse_data.take(3)"
   ]
  },
  {
   "cell_type": "code",
   "execution_count": null,
   "metadata": {
    "collapsed": false
   },
   "outputs": [],
   "source": [
    "livre1 = parse_data.collect()"
   ]
  },
  {
   "cell_type": "code",
   "execution_count": null,
   "metadata": {
    "collapsed": true
   },
   "outputs": [],
   "source": [
    "from collections import Counter"
   ]
  },
  {
   "cell_type": "code",
   "execution_count": null,
   "metadata": {
    "collapsed": false
   },
   "outputs": [],
   "source": [
    "dict_serial1 = (Counter(livre1))"
   ]
  },
  {
   "cell_type": "code",
   "execution_count": null,
   "metadata": {
    "collapsed": false
   },
   "outputs": [],
   "source": [
    "dict_serial1['ты']"
   ]
  },
  {
   "cell_type": "code",
   "execution_count": null,
   "metadata": {
    "collapsed": false
   },
   "outputs": [],
   "source": [
    "raw_data.take(2)"
   ]
  },
  {
   "cell_type": "code",
   "execution_count": null,
   "metadata": {
    "collapsed": false
   },
   "outputs": [],
   "source": [
    "dict_serial1.most_common(10)"
   ]
  },
  {
   "cell_type": "code",
   "execution_count": null,
   "metadata": {
    "collapsed": false
   },
   "outputs": [],
   "source": [
    "print(list(dict_serial1.elements()))"
   ]
  },
  {
   "cell_type": "code",
   "execution_count": null,
   "metadata": {
    "collapsed": false
   },
   "outputs": [],
   "source": [
    "print(dict_serial1.items())"
   ]
  },
  {
   "cell_type": "code",
   "execution_count": null,
   "metadata": {
    "collapsed": false
   },
   "outputs": [],
   "source": [
    "len(dict_serial1)"
   ]
  },
  {
   "cell_type": "code",
   "execution_count": null,
   "metadata": {
    "collapsed": false
   },
   "outputs": [],
   "source": [
    "f = codecs.open('d:/outcome.txt', encoding='utf-8', mode='w+')\n",
    "\n",
    "for t in dict_serial1.keys():\n",
    "    f.write(u\"%s, %i\\r\\n\" % (t,dict_serial1[t]))\n",
    "    \n",
    "f.close()"
   ]
  },
  {
   "cell_type": "code",
   "execution_count": null,
   "metadata": {
    "collapsed": false
   },
   "outputs": [],
   "source": [
    "f = codecs.open('d:/outcome2.txt', encoding='utf-8', mode='w+')\n",
    "\n",
    "\n",
    "[f.write(u\"%s,%i\\r\\n\" % (t[0],t[1])) for t in dict_serial1.most_common()]\n",
    "    \n",
    "f.close()"
   ]
  },
  {
   "cell_type": "code",
   "execution_count": null,
   "metadata": {
    "collapsed": false
   },
   "outputs": [],
   "source": [
    "type(livre1[0])"
   ]
  },
  {
   "cell_type": "code",
   "execution_count": null,
   "metadata": {
    "collapsed": false
   },
   "outputs": [],
   "source": [
    "livre1[2].encode('b')"
   ]
  },
  {
   "cell_type": "code",
   "execution_count": null,
   "metadata": {
    "collapsed": false
   },
   "outputs": [],
   "source": [
    "str.encode"
   ]
  },
  {
   "cell_type": "code",
   "execution_count": null,
   "metadata": {
    "collapsed": false
   },
   "outputs": [],
   "source": [
    "\n",
    "help(str.encode)"
   ]
  },
  {
   "cell_type": "code",
   "execution_count": null,
   "metadata": {
    "collapsed": true
   },
   "outputs": [],
   "source": [
    "import codecs"
   ]
  },
  {
   "cell_type": "code",
   "execution_count": null,
   "metadata": {
    "collapsed": false
   },
   "outputs": [],
   "source": [
    "f = codecs.open('d:/valbuz/Francais Methodes/Russe/kitchen01-20.txt', encoding='utf-8')"
   ]
  },
  {
   "cell_type": "code",
   "execution_count": null,
   "metadata": {
    "collapsed": false
   },
   "outputs": [],
   "source": [
    "f"
   ]
  },
  {
   "cell_type": "code",
   "execution_count": null,
   "metadata": {
    "collapsed": false
   },
   "outputs": [],
   "source": [
    "for line in f:\n",
    "    print(repr(line))"
   ]
  },
  {
   "cell_type": "code",
   "execution_count": null,
   "metadata": {
    "collapsed": true
   },
   "outputs": [],
   "source": [
    "from nltk.stem import SnowballStemmer"
   ]
  },
  {
   "cell_type": "code",
   "execution_count": null,
   "metadata": {
    "collapsed": false
   },
   "outputs": [],
   "source": [
    "print(\" \".join(SnowballStemmer.languages))"
   ]
  },
  {
   "cell_type": "code",
   "execution_count": null,
   "metadata": {
    "collapsed": true
   },
   "outputs": [],
   "source": [
    "stemmer = SnowballStemmer(\"russian\")"
   ]
  },
  {
   "cell_type": "code",
   "execution_count": null,
   "metadata": {
    "collapsed": false
   },
   "outputs": [],
   "source": [
    "for word in dict_serial1.keys():\n",
    "    print(stemmer.stem(word))"
   ]
  },
  {
   "cell_type": "code",
   "execution_count": null,
   "metadata": {
    "collapsed": true
   },
   "outputs": [],
   "source": [
    "parse_data_stem = raw_data.flatMap(lambda x:re.split(\"\\W+\",x)).filter(lambda x:x != \"\").map(lambda x: x.lower()).map(lambda x: stemmer.stem(x))"
   ]
  },
  {
   "cell_type": "code",
   "execution_count": null,
   "metadata": {
    "collapsed": true
   },
   "outputs": [],
   "source": [
    "livre1_stem = parse_data_stem.collect()"
   ]
  },
  {
   "cell_type": "code",
   "execution_count": null,
   "metadata": {
    "collapsed": true
   },
   "outputs": [],
   "source": [
    "dict_serial1_stem = (Counter(livre1_stem))"
   ]
  },
  {
   "cell_type": "code",
   "execution_count": null,
   "metadata": {
    "collapsed": true
   },
   "outputs": [],
   "source": [
    "f = codecs.open('d:/outcome2_stem.txt', encoding='utf-8', mode='w+')\n",
    "\n",
    "\n",
    "[f.write(u\"%s,%i\\r\\n\" % (t[0],t[1])) for t in dict_serial1_stem.most_common()]\n",
    "    \n",
    "f.close()"
   ]
  },
  {
   "cell_type": "code",
   "execution_count": null,
   "metadata": {
    "collapsed": false
   },
   "outputs": [],
   "source": [
    "len(list(dict_serial1_stem.elements()))"
   ]
  },
  {
   "cell_type": "code",
   "execution_count": null,
   "metadata": {
    "collapsed": false
   },
   "outputs": [],
   "source": [
    "for word in dict_serial1_stem.keys():\n",
    "    print(word, len(word))"
   ]
  },
  {
   "cell_type": "code",
   "execution_count": null,
   "metadata": {
    "collapsed": true
   },
   "outputs": [],
   "source": [
    "parse_data_stem4 = raw_data.flatMap(lambda x:re.split(\"\\W+\",x)).filter(lambda x:x != \"\").map(lambda x: x.lower()).map(lambda x: stemmer.stem(x)).filter(lambda x:len(x)>2)"
   ]
  },
  {
   "cell_type": "code",
   "execution_count": null,
   "metadata": {
    "collapsed": true
   },
   "outputs": [],
   "source": [
    "livre1_stem4 = parse_data_stem4.collect()"
   ]
  },
  {
   "cell_type": "code",
   "execution_count": null,
   "metadata": {
    "collapsed": true
   },
   "outputs": [],
   "source": [
    "dict_serial1_stem4 = (Counter(livre1_stem4))"
   ]
  },
  {
   "cell_type": "code",
   "execution_count": null,
   "metadata": {
    "collapsed": true
   },
   "outputs": [],
   "source": [
    "f = codecs.open('d:/outcome2_stem4.txt', encoding='utf-8', mode='w+')\n",
    "\n",
    "\n",
    "[f.write(u\"%s,%i\\r\\n\" % (t[0],t[1])) for t in dict_serial1_stem4.most_common()]\n",
    "    \n",
    "f.close()"
   ]
  },
  {
   "cell_type": "code",
   "execution_count": null,
   "metadata": {
    "collapsed": false
   },
   "outputs": [],
   "source": [
    "len(dict_serial1_stem4)"
   ]
  },
  {
   "cell_type": "code",
   "execution_count": null,
   "metadata": {
    "collapsed": false
   },
   "outputs": [],
   "source": [
    "len(dict_serial1_stem)"
   ]
  },
  {
   "cell_type": "code",
   "execution_count": null,
   "metadata": {
    "collapsed": false
   },
   "outputs": [],
   "source": [
    "dict_serial1_stem4.most_common()"
   ]
  },
  {
   "cell_type": "code",
   "execution_count": null,
   "metadata": {
    "collapsed": false
   },
   "outputs": [],
   "source": [
    "from plotly import __version__\n",
    "from plotly.offline import download_plotlyjs, init_notebook_mode, plot, iplot\n",
    "\n",
    "print(__version__) # requires version >= 1.9.0"
   ]
  },
  {
   "cell_type": "code",
   "execution_count": null,
   "metadata": {
    "collapsed": true
   },
   "outputs": [],
   "source": [
    "%matplotlib inline\n",
    "import matplotlib.pyplot as plt\n",
    "import plotly.plotly as py\n",
    "import plotly.tools as tls"
   ]
  },
  {
   "cell_type": "code",
   "execution_count": null,
   "metadata": {
    "collapsed": false
   },
   "outputs": [],
   "source": [
    "plt.bar(range(len(dict_serial1_stem4)),dict_serial1_stem4.values(),color = \"blue\")"
   ]
  },
  {
   "cell_type": "code",
   "execution_count": null,
   "metadata": {
    "collapsed": false
   },
   "outputs": [],
   "source": [
    "import plotly\n",
    "import plotly.graph_objs as go\n",
    "\n",
    "data = [go.Bar(\n",
    "            x=sorted(dict_serial1_stem4, key=dict_serial1_stem4.get, reverse = True )[0:50],\n",
    "            y=sorted(dict_serial1_stem4.values(), reverse=True)[0:50]\n",
    "    )]\n",
    "\n",
    "type(data)\n",
    "data\n",
    "plotly.offline.plot(data)"
   ]
  },
  {
   "cell_type": "code",
   "execution_count": null,
   "metadata": {
    "collapsed": false
   },
   "outputs": [],
   "source": [
    "data = [go.Bar(\n",
    "            x=['giraffes', 'orangutans', 'monkeys'],\n",
    "            y=[20, 14, 23]\n",
    "    )]\n",
    "data"
   ]
  },
  {
   "cell_type": "code",
   "execution_count": null,
   "metadata": {
    "collapsed": false
   },
   "outputs": [],
   "source": [
    "dict_serial1_stem4.keys()\n",
    "dict_serial1_stem4.values()\n",
    "dict_serial1_stem4.most_common(10)"
   ]
  },
  {
   "cell_type": "code",
   "execution_count": null,
   "metadata": {
    "collapsed": false
   },
   "outputs": [],
   "source": [
    "sorted(dict_serial1_stem4, key=dict_serial1_stem4.get, reverse = True )"
   ]
  },
  {
   "cell_type": "code",
   "execution_count": null,
   "metadata": {
    "collapsed": false
   },
   "outputs": [],
   "source": [
    "sorted(dict_serial1_stem4.values(), reverse=True)"
   ]
  },
  {
   "cell_type": "code",
   "execution_count": null,
   "metadata": {
    "collapsed": false
   },
   "outputs": [],
   "source": [
    "sc.uiWebUrl"
   ]
  },
  {
   "cell_type": "code",
   "execution_count": null,
   "metadata": {
    "collapsed": false
   },
   "outputs": [],
   "source": [
    "import sys\n",
    "sys.stdout.encoding"
   ]
  },
  {
   "cell_type": "code",
   "execution_count": null,
   "metadata": {
    "collapsed": false
   },
   "outputs": [],
   "source": [
    "sys.getdefaultencoding()"
   ]
  },
  {
   "cell_type": "code",
   "execution_count": null,
   "metadata": {
    "collapsed": false
   },
   "outputs": [],
   "source": [
    "type(dict_serial1)"
   ]
  },
  {
   "cell_type": "code",
   "execution_count": null,
   "metadata": {
    "collapsed": true
   },
   "outputs": [],
   "source": [
    "test = Counter()"
   ]
  },
  {
   "cell_type": "code",
   "execution_count": null,
   "metadata": {
    "collapsed": false
   },
   "outputs": [],
   "source": [
    "type(test)"
   ]
  },
  {
   "cell_type": "code",
   "execution_count": null,
   "metadata": {
    "collapsed": false
   },
   "outputs": [],
   "source": [
    "test"
   ]
  },
  {
   "cell_type": "code",
   "execution_count": null,
   "metadata": {
    "collapsed": false
   },
   "outputs": [],
   "source": [
    "counts = Counter({\"York\":2})"
   ]
  },
  {
   "cell_type": "code",
   "execution_count": null,
   "metadata": {
    "collapsed": false
   },
   "outputs": [],
   "source": [
    "counts"
   ]
  },
  {
   "cell_type": "code",
   "execution_count": null,
   "metadata": {
    "collapsed": true
   },
   "outputs": [],
   "source": [
    "test += counts"
   ]
  },
  {
   "cell_type": "code",
   "execution_count": null,
   "metadata": {
    "collapsed": false
   },
   "outputs": [],
   "source": [
    "test"
   ]
  },
  {
   "cell_type": "code",
   "execution_count": null,
   "metadata": {
    "collapsed": true
   },
   "outputs": [],
   "source": [
    "counts = Counter ({\"York\":10})"
   ]
  },
  {
   "cell_type": "code",
   "execution_count": null,
   "metadata": {
    "collapsed": true
   },
   "outputs": [],
   "source": [
    "test += counts"
   ]
  },
  {
   "cell_type": "code",
   "execution_count": null,
   "metadata": {
    "collapsed": false
   },
   "outputs": [],
   "source": [
    "test"
   ]
  },
  {
   "cell_type": "code",
   "execution_count": null,
   "metadata": {
    "collapsed": false
   },
   "outputs": [],
   "source": [
    "sc.parallelize([1, 2, 3, 4]).collect()"
   ]
  },
  {
   "cell_type": "code",
   "execution_count": null,
   "metadata": {
    "collapsed": true
   },
   "outputs": [],
   "source": [
    "edges = sc.textFile(\"d:/valbuz/wordcloud/twitter_rv.net\")"
   ]
  },
  {
   "cell_type": "code",
   "execution_count": null,
   "metadata": {
    "collapsed": false
   },
   "outputs": [],
   "source": [
    "edges.collect()"
   ]
  },
  {
   "cell_type": "code",
   "execution_count": null,
   "metadata": {
    "collapsed": true
   },
   "outputs": [],
   "source": [
    "def parse_edge(s):\n",
    "    user, follower = s.split(\"\\t\")\n",
    "    return (int(user),int(follower))"
   ]
  },
  {
   "cell_type": "code",
   "execution_count": null,
   "metadata": {
    "collapsed": false
   },
   "outputs": [],
   "source": [
    "forward_edges = edges.map(parse_edge).map(lambda e: (e[1],e[0])).cache()"
   ]
  },
  {
   "cell_type": "code",
   "execution_count": null,
   "metadata": {
    "collapsed": false
   },
   "outputs": [],
   "source": [
    "x = 22\n",
    "distances = sc.parallelize([(x,0)])"
   ]
  },
  {
   "cell_type": "code",
   "execution_count": null,
   "metadata": {
    "collapsed": false
   },
   "outputs": [],
   "source": [
    "distances.collect()"
   ]
  },
  {
   "cell_type": "code",
   "execution_count": null,
   "metadata": {
    "collapsed": false
   },
   "outputs": [],
   "source": [
    "distances.join(forward_edges).collect()"
   ]
  },
  {
   "cell_type": "code",
   "execution_count": null,
   "metadata": {
    "collapsed": true
   },
   "outputs": [],
   "source": [
    "def step(item):\n",
    "    prev_v, prev_d, next_v = item[0], item[1][0], item[1][1]\n",
    "    return (next_v,prev_d + 1)"
   ]
  },
  {
   "cell_type": "code",
   "execution_count": null,
   "metadata": {
    "collapsed": false
   },
   "outputs": [],
   "source": [
    "distances.join(forward_edges).map(step).collect()"
   ]
  },
  {
   "cell_type": "code",
   "execution_count": null,
   "metadata": {
    "collapsed": false
   },
   "outputs": [],
   "source": [
    "def parse_edge(s):\n",
    "    user, follower = s.split(\"\\t\")\n",
    "    return (int(user),int(follower))\n",
    "\n",
    "def step(item):\n",
    "    prev_v, prev_d, next_v = item[0], item[1][0], item[1][1]\n",
    "    return (next_v,prev_d + 1)\n",
    "\n",
    "def complete(item):\n",
    "    v, old_d, new_d = item[0], item[1][0],item[1][1]\n",
    "    return (v, old_d if old_d is not None else new_d)\n",
    "\n",
    "edges = sc.textFile(\"d:/valbuz/wordcloud/twitter_rv.net\")\n",
    "forward_edges = edges.map(parse_edge).map(lambda e: (e[1],e[0])).cache()\n",
    "\n",
    "x = 22\n",
    "d = 0\n",
    "dest = 14  \n",
    "\n",
    "distances = sc.parallelize([(x,d,(x))])\n",
    "\n",
    "while True:\n",
    "    candidates = distances.join(forward_edges).map(step)\n",
    "    new_distances = distances.fullOuterJoin(candidates).map(complete)\n",
    "    count = new_distances.filter(lambda i: i[1] == d + 1).count()\n",
    "    if count > 0:\n",
    "        d += 1\n",
    "        distances = new_distances\n",
    "        print(\"d= \", d, \"count= \", count)\n",
    "        print(new_distances.collect())\n",
    "        found = new_distances.filter(lambda i: i[0] == dest).count()\n",
    "        if found > 0:\n",
    "            print(\"path to\", dest, \"found with distance: \", d)\n",
    "            break\n",
    "    else:\n",
    "        print(\"End of search\")\n",
    "        break\n",
    "        "
   ]
  },
  {
   "cell_type": "code",
   "execution_count": null,
   "metadata": {
    "collapsed": false
   },
   "outputs": [],
   "source": [
    "distances.fullOuterJoin(candidates).map(complete).collect()"
   ]
  },
  {
   "cell_type": "code",
   "execution_count": 112,
   "metadata": {
    "collapsed": false,
    "scrolled": true
   },
   "outputs": [
    {
     "name": "stdout",
     "output_type": "stream",
     "text": [
      "[(22, (0, [22]))]\n",
      "[(22, ((0, [22]), 13)), (22, ((0, [22]), 15))]\n",
      "[(13, (1, [22, 13])), (15, (1, [22, 15]))]\n",
      "[(15, (None, (1, [22, 15]))), (13, (None, (1, [22, 13]))), (22, ((0, [22]), None))]\n",
      "[(15, (1, [22, 15])), (13, (1, [22, 13])), (22, (0, [22]))]\n",
      "d=  1 count=  2\n",
      "[(15, (1, [22, 15])), (13, (1, [22, 13])), (22, (0, [22]))]\n",
      "[(13, ((1, [22, 13]), 12)), (13, ((1, [22, 13]), 15)), (22, ((0, [22]), 13)), (22, ((0, [22]), 15)), (15, ((1, [22, 15]), 12)), (15, ((1, [22, 15]), 13)), (15, ((1, [22, 15]), 14))]\n",
      "[(12, (2, [22, 13, 12])), (15, (2, [22, 13, 15])), (13, (1, [22, 13])), (15, (1, [22, 15])), (12, (2, [22, 15, 12])), (13, (2, [22, 15, 13])), (14, (2, [22, 15, 14]))]\n",
      "[(14, (None, (2, [22, 15, 14]))), (22, ((0, [22]), None)), (15, ((1, [22, 15]), (2, [22, 13, 15]))), (15, ((1, [22, 15]), (1, [22, 15]))), (12, (None, (2, [22, 13, 12]))), (12, (None, (2, [22, 15, 12]))), (13, ((1, [22, 13]), (1, [22, 13]))), (13, ((1, [22, 13]), (2, [22, 15, 13])))]\n",
      "[(14, (2, [22, 15, 14])), (22, (0, [22])), (15, (1, [22, 15])), (15, (1, [22, 15])), (12, (2, [22, 13, 12])), (12, (2, [22, 15, 12])), (13, (1, [22, 13])), (13, (1, [22, 13]))]\n",
      "d=  2 count=  3\n",
      "[(14, (2, [22, 15, 14])), (22, (0, [22])), (15, (1, [22, 15])), (15, (1, [22, 15])), (12, (2, [22, 13, 12])), (12, (2, [22, 15, 12])), (13, (1, [22, 13])), (13, (1, [22, 13]))]\n",
      "Found:  [([22, 15, 14],)]\n"
     ]
    }
   ],
   "source": [
    "def parse_edge(s):\n",
    "    user, follower = s.split(\"\\t\")\n",
    "    return (int(user),int(follower))\n",
    "\n",
    "def step(item):\n",
    "    prev_v, prev_d, next_v,old_path = item[0], item[1][0][0], item[1][1], item[1][0][1]\n",
    "    new_path = list(old_path)\n",
    "    new_path.extend( [next_v]  )\n",
    "    return (next_v,(prev_d + 1, new_path))\n",
    "\n",
    "def complete(item):\n",
    "    v, old_d, new_d = item[0], item[1][0],item[1][1]\n",
    "    #v, old_d, new_d, old_path, new_path = item[0], item[1][0][0],item[1][1][0], item[1][0][1:], item[1][1][1:]\n",
    "    #print(\"v: \", v, \",old_path: \",old_path, \",new_path: \",new_path)\n",
    "    return (v, old_d  if old_d is not None else new_d)\n",
    "\n",
    "edges = sc.textFile(\"d:/valbuz/wordcloud/twitter_rv.net\")\n",
    "forward_edges = edges.map(parse_edge).map(lambda e: (e[1],e[0])).cache()\n",
    "\n",
    "x = 22\n",
    "d = 0\n",
    "dest = 14  \n",
    "\n",
    "distances = sc.parallelize([(x,(d,[x]))])\n",
    "print(distances.collect())\n",
    "\n",
    "while True:\n",
    "    candidates1 = distances.join(forward_edges)\n",
    "    print(candidates1.collect())\n",
    "\n",
    "    candidates = distances.join(forward_edges).map(step)\n",
    "    print(candidates.collect())\n",
    "\n",
    "    new_distances = distances.fullOuterJoin(candidates)\n",
    "    print(new_distances.collect())\n",
    "\n",
    "    new_distances = distances.fullOuterJoin(candidates).map(complete)\n",
    "    print(new_distances.collect())\n",
    "    count = new_distances.filter(lambda i:i[1][0] == d + 1).count()\n",
    "    if count > 0:\n",
    "        d += 1\n",
    "        distances = new_distances\n",
    "        print(\"d= \", d, \"count= \", count)\n",
    "        print(distances.collect())\n",
    "        found = new_distances.filter(lambda i:i[0] == dest ).count()\n",
    "        found_item = new_distances.filter(lambda i:i[0] == dest )\n",
    "        if found > 0:\n",
    "            print(\"Found: \", (new_distances.filter(lambda i:i[0] == dest ).map(lambda i:i[1][1]).collect()))\n",
    "            break\n",
    "        if d == 2:\n",
    "            break\n",
    "    else:\n",
    "        break\n"
   ]
  },
  {
   "cell_type": "code",
   "execution_count": 34,
   "metadata": {
    "collapsed": false
   },
   "outputs": [
    {
     "data": {
      "text/plain": [
       "PythonRDD[1151] at RDD at PythonRDD.scala:48"
      ]
     },
     "execution_count": 34,
     "metadata": {},
     "output_type": "execute_result"
    }
   ],
   "source": [
    "found_item"
   ]
  },
  {
   "cell_type": "code",
   "execution_count": 113,
   "metadata": {
    "collapsed": false
   },
   "outputs": [
    {
     "data": {
      "text/plain": [
       "PythonRDD[1684] at RDD at PythonRDD.scala:48"
      ]
     },
     "execution_count": 113,
     "metadata": {},
     "output_type": "execute_result"
    }
   ],
   "source": [
    "found_item.cache()"
   ]
  },
  {
   "cell_type": "code",
   "execution_count": 126,
   "metadata": {
    "collapsed": false
   },
   "outputs": [
    {
     "data": {
      "text/plain": [
       "[15]"
      ]
     },
     "execution_count": 126,
     "metadata": {},
     "output_type": "execute_result"
    }
   ],
   "source": [
    "found_item.map(lambda i:i[1][1:]).flatMap(lambda xs: [xs[0][1] for i in range(len(xs))]).collect()"
   ]
  },
  {
   "cell_type": "code",
   "execution_count": 110,
   "metadata": {
    "collapsed": false
   },
   "outputs": [
    {
     "name": "stdout",
     "output_type": "stream",
     "text": [
      "[(22, ((0, [22]), 13)), (22, ((0, [22]), 15))]\n"
     ]
    },
    {
     "data": {
      "text/plain": [
       "[(13, (1, [22, 13])), (15, (1, [22, 15]))]"
      ]
     },
     "execution_count": 110,
     "metadata": {},
     "output_type": "execute_result"
    }
   ],
   "source": [
    "distances = sc.parallelize([(x,(d,[x]))])\n",
    "candidates1 = distances.join(forward_edges)\n",
    "print(candidates1.collect())\n",
    "    \n",
    "def step(item):\n",
    "    prev_v, prev_d, next_v,old_path = item[0], item[1][0][0], item[1][1], item[1][0][1]\n",
    "    new_path = list(old_path)\n",
    "    new_path.extend( [next_v]  )\n",
    "    return (next_v,(prev_d + 1, new_path))\n",
    "\n",
    "candidates1.map(step).collect()"
   ]
  },
  {
   "cell_type": "code",
   "execution_count": 104,
   "metadata": {
    "collapsed": false
   },
   "outputs": [
    {
     "data": {
      "text/plain": [
       "[(22, (0, [22]))]"
      ]
     },
     "execution_count": 104,
     "metadata": {},
     "output_type": "execute_result"
    }
   ],
   "source": [
    "distances.collect()"
   ]
  },
  {
   "cell_type": "code",
   "execution_count": 65,
   "metadata": {
    "collapsed": false
   },
   "outputs": [
    {
     "data": {
      "text/plain": [
       "list"
      ]
     },
     "execution_count": 65,
     "metadata": {},
     "output_type": "execute_result"
    }
   ],
   "source": [
    "type(l)"
   ]
  },
  {
   "cell_type": "code",
   "execution_count": 66,
   "metadata": {
    "collapsed": false
   },
   "outputs": [
    {
     "data": {
      "text/plain": [
       "[1, 2]"
      ]
     },
     "execution_count": 66,
     "metadata": {},
     "output_type": "execute_result"
    }
   ],
   "source": [
    "l"
   ]
  },
  {
   "cell_type": "code",
   "execution_count": 81,
   "metadata": {
    "collapsed": false
   },
   "outputs": [],
   "source": [
    "ss = 5\n",
    "l.extend([ss])"
   ]
  },
  {
   "cell_type": "code",
   "execution_count": 82,
   "metadata": {
    "collapsed": false
   },
   "outputs": [
    {
     "data": {
      "text/plain": [
       "[1, 2, '4', 4, 5]"
      ]
     },
     "execution_count": 82,
     "metadata": {},
     "output_type": "execute_result"
    }
   ],
   "source": [
    "l"
   ]
  },
  {
   "cell_type": "code",
   "execution_count": 122,
   "metadata": {
    "collapsed": false
   },
   "outputs": [
    {
     "data": {
      "text/plain": [
       "5"
      ]
     },
     "execution_count": 122,
     "metadata": {},
     "output_type": "execute_result"
    }
   ],
   "source": [
    "len(l)"
   ]
  },
  {
   "cell_type": "code",
   "execution_count": null,
   "metadata": {
    "collapsed": true
   },
   "outputs": [],
   "source": []
  }
 ],
 "metadata": {
  "kernelspec": {
   "display_name": "Python [conda root]",
   "language": "python",
   "name": "conda-root-py"
  },
  "language_info": {
   "codemirror_mode": {
    "name": "ipython",
    "version": 3
   },
   "file_extension": ".py",
   "mimetype": "text/x-python",
   "name": "python",
   "nbconvert_exporter": "python",
   "pygments_lexer": "ipython3",
   "version": "3.5.2"
  }
 },
 "nbformat": 4,
 "nbformat_minor": 1
}
